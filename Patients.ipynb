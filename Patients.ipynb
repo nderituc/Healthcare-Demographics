{
 "cells": [
  {
   "cell_type": "markdown",
   "id": "a7899711-1205-4b54-bd62-81b29cdab9d7",
   "metadata": {},
   "source": [
    "# Descriptive Statistics Analysis of Patient Data"
   ]
  },
  {
   "cell_type": "markdown",
   "id": "d6184c27-ccb7-4a1a-bb69-363ac9dafd1e",
   "metadata": {},
   "source": [
    "This project aims to perform a comprehensive descriptive statistics analysis on a \n",
    "dataset containing patient information. The primary focus is to calculate summary \n",
    "statistics for key numeric variables and explore the distribution of categorical variables. \n",
    "By leveraging statistical techniques, this project seeks to provide insights into patient demographics and healthcare utilization, ultimately aiding in better understanding trends and patterns in patient data."
   ]
  },
  {
   "cell_type": "markdown",
   "id": "9f9376bf-e681-4dda-b73a-13eb7886890c",
   "metadata": {},
   "source": [
    "# Load Data and Libraries"
   ]
  },
  {
   "cell_type": "code",
   "execution_count": 70,
   "id": "e9b2d42d-8e87-4ccf-8fb8-80f11fd0c751",
   "metadata": {},
   "outputs": [],
   "source": [
    "#Import necessary libraries\n",
    "import pandas as pd\n",
    "import numpy as np\n",
    "import matplotlib.pyplot as plt\n"
   ]
  },
  {
   "cell_type": "code",
   "execution_count": 71,
   "id": "2f05d3f0-732a-42d6-af99-52fd0d3f664f",
   "metadata": {},
   "outputs": [],
   "source": [
    "#Read data to a dataframe\n",
    "Data = pd.read_csv(\"diabetic_data.csv\")"
   ]
  },
  {
   "cell_type": "code",
   "execution_count": 72,
   "id": "67d0f49d-cfd5-4dad-a6ca-29ae94e0e7d9",
   "metadata": {},
   "outputs": [
    {
     "data": {
      "text/html": [
       "<div>\n",
       "<style scoped>\n",
       "    .dataframe tbody tr th:only-of-type {\n",
       "        vertical-align: middle;\n",
       "    }\n",
       "\n",
       "    .dataframe tbody tr th {\n",
       "        vertical-align: top;\n",
       "    }\n",
       "\n",
       "    .dataframe thead th {\n",
       "        text-align: right;\n",
       "    }\n",
       "</style>\n",
       "<table border=\"1\" class=\"dataframe\">\n",
       "  <thead>\n",
       "    <tr style=\"text-align: right;\">\n",
       "      <th></th>\n",
       "      <th>encounter_id</th>\n",
       "      <th>patient_nbr</th>\n",
       "      <th>race</th>\n",
       "      <th>gender</th>\n",
       "      <th>age</th>\n",
       "      <th>weight</th>\n",
       "      <th>admission_type_id</th>\n",
       "      <th>discharge_disposition_id</th>\n",
       "      <th>admission_source_id</th>\n",
       "      <th>time_in_hospital</th>\n",
       "      <th>...</th>\n",
       "      <th>citoglipton</th>\n",
       "      <th>insulin</th>\n",
       "      <th>glyburide-metformin</th>\n",
       "      <th>glipizide-metformin</th>\n",
       "      <th>glimepiride-pioglitazone</th>\n",
       "      <th>metformin-rosiglitazone</th>\n",
       "      <th>metformin-pioglitazone</th>\n",
       "      <th>change</th>\n",
       "      <th>diabetesMed</th>\n",
       "      <th>readmitted</th>\n",
       "    </tr>\n",
       "  </thead>\n",
       "  <tbody>\n",
       "    <tr>\n",
       "      <th>0</th>\n",
       "      <td>2278392</td>\n",
       "      <td>8222157</td>\n",
       "      <td>Caucasian</td>\n",
       "      <td>Female</td>\n",
       "      <td>[0-10)</td>\n",
       "      <td>?</td>\n",
       "      <td>6</td>\n",
       "      <td>25</td>\n",
       "      <td>1</td>\n",
       "      <td>1</td>\n",
       "      <td>...</td>\n",
       "      <td>No</td>\n",
       "      <td>No</td>\n",
       "      <td>No</td>\n",
       "      <td>No</td>\n",
       "      <td>No</td>\n",
       "      <td>No</td>\n",
       "      <td>No</td>\n",
       "      <td>No</td>\n",
       "      <td>No</td>\n",
       "      <td>NO</td>\n",
       "    </tr>\n",
       "    <tr>\n",
       "      <th>1</th>\n",
       "      <td>149190</td>\n",
       "      <td>55629189</td>\n",
       "      <td>Caucasian</td>\n",
       "      <td>Female</td>\n",
       "      <td>[10-20)</td>\n",
       "      <td>?</td>\n",
       "      <td>1</td>\n",
       "      <td>1</td>\n",
       "      <td>7</td>\n",
       "      <td>3</td>\n",
       "      <td>...</td>\n",
       "      <td>No</td>\n",
       "      <td>Up</td>\n",
       "      <td>No</td>\n",
       "      <td>No</td>\n",
       "      <td>No</td>\n",
       "      <td>No</td>\n",
       "      <td>No</td>\n",
       "      <td>Ch</td>\n",
       "      <td>Yes</td>\n",
       "      <td>&gt;30</td>\n",
       "    </tr>\n",
       "    <tr>\n",
       "      <th>2</th>\n",
       "      <td>64410</td>\n",
       "      <td>86047875</td>\n",
       "      <td>AfricanAmerican</td>\n",
       "      <td>Female</td>\n",
       "      <td>[20-30)</td>\n",
       "      <td>?</td>\n",
       "      <td>1</td>\n",
       "      <td>1</td>\n",
       "      <td>7</td>\n",
       "      <td>2</td>\n",
       "      <td>...</td>\n",
       "      <td>No</td>\n",
       "      <td>No</td>\n",
       "      <td>No</td>\n",
       "      <td>No</td>\n",
       "      <td>No</td>\n",
       "      <td>No</td>\n",
       "      <td>No</td>\n",
       "      <td>No</td>\n",
       "      <td>Yes</td>\n",
       "      <td>NO</td>\n",
       "    </tr>\n",
       "    <tr>\n",
       "      <th>3</th>\n",
       "      <td>500364</td>\n",
       "      <td>82442376</td>\n",
       "      <td>Caucasian</td>\n",
       "      <td>Male</td>\n",
       "      <td>[30-40)</td>\n",
       "      <td>?</td>\n",
       "      <td>1</td>\n",
       "      <td>1</td>\n",
       "      <td>7</td>\n",
       "      <td>2</td>\n",
       "      <td>...</td>\n",
       "      <td>No</td>\n",
       "      <td>Up</td>\n",
       "      <td>No</td>\n",
       "      <td>No</td>\n",
       "      <td>No</td>\n",
       "      <td>No</td>\n",
       "      <td>No</td>\n",
       "      <td>Ch</td>\n",
       "      <td>Yes</td>\n",
       "      <td>NO</td>\n",
       "    </tr>\n",
       "    <tr>\n",
       "      <th>4</th>\n",
       "      <td>16680</td>\n",
       "      <td>42519267</td>\n",
       "      <td>Caucasian</td>\n",
       "      <td>Male</td>\n",
       "      <td>[40-50)</td>\n",
       "      <td>?</td>\n",
       "      <td>1</td>\n",
       "      <td>1</td>\n",
       "      <td>7</td>\n",
       "      <td>1</td>\n",
       "      <td>...</td>\n",
       "      <td>No</td>\n",
       "      <td>Steady</td>\n",
       "      <td>No</td>\n",
       "      <td>No</td>\n",
       "      <td>No</td>\n",
       "      <td>No</td>\n",
       "      <td>No</td>\n",
       "      <td>Ch</td>\n",
       "      <td>Yes</td>\n",
       "      <td>NO</td>\n",
       "    </tr>\n",
       "  </tbody>\n",
       "</table>\n",
       "<p>5 rows × 50 columns</p>\n",
       "</div>"
      ],
      "text/plain": [
       "   encounter_id  patient_nbr             race  gender      age weight  \\\n",
       "0       2278392      8222157        Caucasian  Female   [0-10)      ?   \n",
       "1        149190     55629189        Caucasian  Female  [10-20)      ?   \n",
       "2         64410     86047875  AfricanAmerican  Female  [20-30)      ?   \n",
       "3        500364     82442376        Caucasian    Male  [30-40)      ?   \n",
       "4         16680     42519267        Caucasian    Male  [40-50)      ?   \n",
       "\n",
       "   admission_type_id  discharge_disposition_id  admission_source_id  \\\n",
       "0                  6                        25                    1   \n",
       "1                  1                         1                    7   \n",
       "2                  1                         1                    7   \n",
       "3                  1                         1                    7   \n",
       "4                  1                         1                    7   \n",
       "\n",
       "   time_in_hospital  ... citoglipton insulin  glyburide-metformin  \\\n",
       "0                 1  ...          No      No                   No   \n",
       "1                 3  ...          No      Up                   No   \n",
       "2                 2  ...          No      No                   No   \n",
       "3                 2  ...          No      Up                   No   \n",
       "4                 1  ...          No  Steady                   No   \n",
       "\n",
       "   glipizide-metformin  glimepiride-pioglitazone  metformin-rosiglitazone  \\\n",
       "0                   No                        No                       No   \n",
       "1                   No                        No                       No   \n",
       "2                   No                        No                       No   \n",
       "3                   No                        No                       No   \n",
       "4                   No                        No                       No   \n",
       "\n",
       "   metformin-pioglitazone  change diabetesMed readmitted  \n",
       "0                      No      No          No         NO  \n",
       "1                      No      Ch         Yes        >30  \n",
       "2                      No      No         Yes         NO  \n",
       "3                      No      Ch         Yes         NO  \n",
       "4                      No      Ch         Yes         NO  \n",
       "\n",
       "[5 rows x 50 columns]"
      ]
     },
     "execution_count": 72,
     "metadata": {},
     "output_type": "execute_result"
    }
   ],
   "source": [
    "Data.head()"
   ]
  },
  {
   "cell_type": "code",
   "execution_count": 73,
   "id": "6ba67eb9-b66d-404e-bcdb-35ba7837523e",
   "metadata": {},
   "outputs": [
    {
     "data": {
      "text/plain": [
       "(101766, 50)"
      ]
     },
     "execution_count": 73,
     "metadata": {},
     "output_type": "execute_result"
    }
   ],
   "source": [
    "#Check data size\n",
    "Data.shape"
   ]
  },
  {
   "cell_type": "markdown",
   "id": "d1190fbe-e62e-45d1-914b-86dad8ddbb46",
   "metadata": {},
   "source": [
    "## Data Cleaning and Preprocessing"
   ]
  },
  {
   "cell_type": "code",
   "execution_count": 74,
   "id": "ae645bdb-043c-4baa-9b2d-c1f60c9d21eb",
   "metadata": {},
   "outputs": [],
   "source": [
    "#Select columns of interest\n",
    "columns = ['age', 'weight', 'time_in_hospital', 'num_lab_procedures', 'num_procedures', \n",
    "                   'num_medications', 'race', 'gender', 'admission_type_id', 'discharge_disposition_id']\n"
   ]
  },
  {
   "cell_type": "code",
   "execution_count": 75,
   "id": "39a2ccf9-77d0-4130-86ab-367f8c75875c",
   "metadata": {},
   "outputs": [
    {
     "data": {
      "text/html": [
       "<div>\n",
       "<style scoped>\n",
       "    .dataframe tbody tr th:only-of-type {\n",
       "        vertical-align: middle;\n",
       "    }\n",
       "\n",
       "    .dataframe tbody tr th {\n",
       "        vertical-align: top;\n",
       "    }\n",
       "\n",
       "    .dataframe thead th {\n",
       "        text-align: right;\n",
       "    }\n",
       "</style>\n",
       "<table border=\"1\" class=\"dataframe\">\n",
       "  <thead>\n",
       "    <tr style=\"text-align: right;\">\n",
       "      <th></th>\n",
       "      <th>age</th>\n",
       "      <th>weight</th>\n",
       "      <th>time_in_hospital</th>\n",
       "      <th>num_lab_procedures</th>\n",
       "      <th>num_procedures</th>\n",
       "      <th>num_medications</th>\n",
       "      <th>race</th>\n",
       "      <th>gender</th>\n",
       "      <th>admission_type_id</th>\n",
       "      <th>discharge_disposition_id</th>\n",
       "    </tr>\n",
       "  </thead>\n",
       "  <tbody>\n",
       "    <tr>\n",
       "      <th>0</th>\n",
       "      <td>[0-10)</td>\n",
       "      <td>?</td>\n",
       "      <td>1</td>\n",
       "      <td>41</td>\n",
       "      <td>0</td>\n",
       "      <td>1</td>\n",
       "      <td>Caucasian</td>\n",
       "      <td>Female</td>\n",
       "      <td>6</td>\n",
       "      <td>25</td>\n",
       "    </tr>\n",
       "    <tr>\n",
       "      <th>1</th>\n",
       "      <td>[10-20)</td>\n",
       "      <td>?</td>\n",
       "      <td>3</td>\n",
       "      <td>59</td>\n",
       "      <td>0</td>\n",
       "      <td>18</td>\n",
       "      <td>Caucasian</td>\n",
       "      <td>Female</td>\n",
       "      <td>1</td>\n",
       "      <td>1</td>\n",
       "    </tr>\n",
       "    <tr>\n",
       "      <th>2</th>\n",
       "      <td>[20-30)</td>\n",
       "      <td>?</td>\n",
       "      <td>2</td>\n",
       "      <td>11</td>\n",
       "      <td>5</td>\n",
       "      <td>13</td>\n",
       "      <td>AfricanAmerican</td>\n",
       "      <td>Female</td>\n",
       "      <td>1</td>\n",
       "      <td>1</td>\n",
       "    </tr>\n",
       "    <tr>\n",
       "      <th>3</th>\n",
       "      <td>[30-40)</td>\n",
       "      <td>?</td>\n",
       "      <td>2</td>\n",
       "      <td>44</td>\n",
       "      <td>1</td>\n",
       "      <td>16</td>\n",
       "      <td>Caucasian</td>\n",
       "      <td>Male</td>\n",
       "      <td>1</td>\n",
       "      <td>1</td>\n",
       "    </tr>\n",
       "    <tr>\n",
       "      <th>4</th>\n",
       "      <td>[40-50)</td>\n",
       "      <td>?</td>\n",
       "      <td>1</td>\n",
       "      <td>51</td>\n",
       "      <td>0</td>\n",
       "      <td>8</td>\n",
       "      <td>Caucasian</td>\n",
       "      <td>Male</td>\n",
       "      <td>1</td>\n",
       "      <td>1</td>\n",
       "    </tr>\n",
       "    <tr>\n",
       "      <th>5</th>\n",
       "      <td>[50-60)</td>\n",
       "      <td>?</td>\n",
       "      <td>3</td>\n",
       "      <td>31</td>\n",
       "      <td>6</td>\n",
       "      <td>16</td>\n",
       "      <td>Caucasian</td>\n",
       "      <td>Male</td>\n",
       "      <td>2</td>\n",
       "      <td>1</td>\n",
       "    </tr>\n",
       "    <tr>\n",
       "      <th>6</th>\n",
       "      <td>[60-70)</td>\n",
       "      <td>?</td>\n",
       "      <td>4</td>\n",
       "      <td>70</td>\n",
       "      <td>1</td>\n",
       "      <td>21</td>\n",
       "      <td>Caucasian</td>\n",
       "      <td>Male</td>\n",
       "      <td>3</td>\n",
       "      <td>1</td>\n",
       "    </tr>\n",
       "    <tr>\n",
       "      <th>7</th>\n",
       "      <td>[70-80)</td>\n",
       "      <td>?</td>\n",
       "      <td>5</td>\n",
       "      <td>73</td>\n",
       "      <td>0</td>\n",
       "      <td>12</td>\n",
       "      <td>Caucasian</td>\n",
       "      <td>Male</td>\n",
       "      <td>1</td>\n",
       "      <td>1</td>\n",
       "    </tr>\n",
       "    <tr>\n",
       "      <th>8</th>\n",
       "      <td>[80-90)</td>\n",
       "      <td>?</td>\n",
       "      <td>13</td>\n",
       "      <td>68</td>\n",
       "      <td>2</td>\n",
       "      <td>28</td>\n",
       "      <td>Caucasian</td>\n",
       "      <td>Female</td>\n",
       "      <td>2</td>\n",
       "      <td>1</td>\n",
       "    </tr>\n",
       "    <tr>\n",
       "      <th>9</th>\n",
       "      <td>[90-100)</td>\n",
       "      <td>?</td>\n",
       "      <td>12</td>\n",
       "      <td>33</td>\n",
       "      <td>3</td>\n",
       "      <td>18</td>\n",
       "      <td>Caucasian</td>\n",
       "      <td>Female</td>\n",
       "      <td>3</td>\n",
       "      <td>3</td>\n",
       "    </tr>\n",
       "  </tbody>\n",
       "</table>\n",
       "</div>"
      ],
      "text/plain": [
       "        age weight  time_in_hospital  num_lab_procedures  num_procedures  \\\n",
       "0    [0-10)      ?                 1                  41               0   \n",
       "1   [10-20)      ?                 3                  59               0   \n",
       "2   [20-30)      ?                 2                  11               5   \n",
       "3   [30-40)      ?                 2                  44               1   \n",
       "4   [40-50)      ?                 1                  51               0   \n",
       "5   [50-60)      ?                 3                  31               6   \n",
       "6   [60-70)      ?                 4                  70               1   \n",
       "7   [70-80)      ?                 5                  73               0   \n",
       "8   [80-90)      ?                13                  68               2   \n",
       "9  [90-100)      ?                12                  33               3   \n",
       "\n",
       "   num_medications             race  gender  admission_type_id  \\\n",
       "0                1        Caucasian  Female                  6   \n",
       "1               18        Caucasian  Female                  1   \n",
       "2               13  AfricanAmerican  Female                  1   \n",
       "3               16        Caucasian    Male                  1   \n",
       "4                8        Caucasian    Male                  1   \n",
       "5               16        Caucasian    Male                  2   \n",
       "6               21        Caucasian    Male                  3   \n",
       "7               12        Caucasian    Male                  1   \n",
       "8               28        Caucasian  Female                  2   \n",
       "9               18        Caucasian  Female                  3   \n",
       "\n",
       "   discharge_disposition_id  \n",
       "0                        25  \n",
       "1                         1  \n",
       "2                         1  \n",
       "3                         1  \n",
       "4                         1  \n",
       "5                         1  \n",
       "6                         1  \n",
       "7                         1  \n",
       "8                         1  \n",
       "9                         3  "
      ]
     },
     "execution_count": 75,
     "metadata": {},
     "output_type": "execute_result"
    }
   ],
   "source": [
    "#Brief view of the data\n",
    "subset_df=Data[columns]\n",
    "subset_df.head(10)"
   ]
  },
  {
   "cell_type": "code",
   "execution_count": 76,
   "id": "ded6a4c5-3d23-4d4f-969a-473dc8d3e876",
   "metadata": {},
   "outputs": [
    {
     "data": {
      "text/plain": [
       "(101766, 10)"
      ]
     },
     "execution_count": 76,
     "metadata": {},
     "output_type": "execute_result"
    }
   ],
   "source": [
    "#Check size of data\n",
    "subset_df.shape"
   ]
  },
  {
   "cell_type": "code",
   "execution_count": 77,
   "id": "aa6255f3-676e-421f-b410-b9c372d091ca",
   "metadata": {},
   "outputs": [
    {
     "data": {
      "text/plain": [
       "age                         object\n",
       "weight                      object\n",
       "time_in_hospital             int64\n",
       "num_lab_procedures           int64\n",
       "num_procedures               int64\n",
       "num_medications              int64\n",
       "race                        object\n",
       "gender                      object\n",
       "admission_type_id            int64\n",
       "discharge_disposition_id     int64\n",
       "dtype: object"
      ]
     },
     "execution_count": 77,
     "metadata": {},
     "output_type": "execute_result"
    }
   ],
   "source": [
    "#Check the datatype of each column\n",
    "subset_df.dtypes"
   ]
  },
  {
   "cell_type": "code",
   "execution_count": 118,
   "id": "45b6dc12-7441-4463-9b50-2e04c318ed7a",
   "metadata": {},
   "outputs": [
    {
     "name": "stdout",
     "output_type": "stream",
     "text": [
      "age                         object\n",
      "time_in_hospital             int64\n",
      "num_lab_procedures           int64\n",
      "num_procedures               int64\n",
      "num_medications              int64\n",
      "race                        object\n",
      "gender                      object\n",
      "admission_type_id           object\n",
      "discharge_disposition_id    object\n",
      "dtype: object\n"
     ]
    }
   ],
   "source": [
    "# Convert columns to 'object' type using .loc[] \n",
    "subset_df.loc[:, 'admission_type_id'] = subset_df['admission_type_id'].astype('object')\n",
    "subset_df.loc[:, 'discharge_disposition_id'] = subset_df['discharge_disposition_id'].astype('object')\n",
    "\n",
    "# Verify the data types\n",
    "print(subset_df.dtypes)\n"
   ]
  },
  {
   "cell_type": "code",
   "execution_count": 79,
   "id": "1fb3ba1b-83ed-4a67-bac6-14f9e5563e29",
   "metadata": {},
   "outputs": [
    {
     "name": "stdout",
     "output_type": "stream",
     "text": [
      "age                         0\n",
      "weight                      0\n",
      "time_in_hospital            0\n",
      "num_lab_procedures          0\n",
      "num_procedures              0\n",
      "num_medications             0\n",
      "race                        0\n",
      "gender                      0\n",
      "admission_type_id           0\n",
      "discharge_disposition_id    0\n",
      "dtype: int64\n"
     ]
    }
   ],
   "source": [
    "#check if there are null values\n",
    "null_values = subset_df.isnull().sum()\n",
    "print(null_values)"
   ]
  },
  {
   "cell_type": "code",
   "execution_count": 80,
   "id": "ece17fdb-08e3-46f5-aad1-6d4a91656ee6",
   "metadata": {
    "scrolled": true
   },
   "outputs": [],
   "source": [
    "#Replace '?' with NaN\n",
    "subset_df = subset_df.replace('?', np.nan)"
   ]
  },
  {
   "cell_type": "code",
   "execution_count": 81,
   "id": "1ebf4bac-d029-4ced-abba-2c8448770045",
   "metadata": {},
   "outputs": [
    {
     "data": {
      "text/html": [
       "<div>\n",
       "<style scoped>\n",
       "    .dataframe tbody tr th:only-of-type {\n",
       "        vertical-align: middle;\n",
       "    }\n",
       "\n",
       "    .dataframe tbody tr th {\n",
       "        vertical-align: top;\n",
       "    }\n",
       "\n",
       "    .dataframe thead th {\n",
       "        text-align: right;\n",
       "    }\n",
       "</style>\n",
       "<table border=\"1\" class=\"dataframe\">\n",
       "  <thead>\n",
       "    <tr style=\"text-align: right;\">\n",
       "      <th></th>\n",
       "      <th>age</th>\n",
       "      <th>weight</th>\n",
       "      <th>time_in_hospital</th>\n",
       "      <th>num_lab_procedures</th>\n",
       "      <th>num_procedures</th>\n",
       "      <th>num_medications</th>\n",
       "      <th>race</th>\n",
       "      <th>gender</th>\n",
       "      <th>admission_type_id</th>\n",
       "      <th>discharge_disposition_id</th>\n",
       "    </tr>\n",
       "  </thead>\n",
       "  <tbody>\n",
       "    <tr>\n",
       "      <th>0</th>\n",
       "      <td>[0-10)</td>\n",
       "      <td>NaN</td>\n",
       "      <td>1</td>\n",
       "      <td>41</td>\n",
       "      <td>0</td>\n",
       "      <td>1</td>\n",
       "      <td>Caucasian</td>\n",
       "      <td>Female</td>\n",
       "      <td>6</td>\n",
       "      <td>25</td>\n",
       "    </tr>\n",
       "    <tr>\n",
       "      <th>1</th>\n",
       "      <td>[10-20)</td>\n",
       "      <td>NaN</td>\n",
       "      <td>3</td>\n",
       "      <td>59</td>\n",
       "      <td>0</td>\n",
       "      <td>18</td>\n",
       "      <td>Caucasian</td>\n",
       "      <td>Female</td>\n",
       "      <td>1</td>\n",
       "      <td>1</td>\n",
       "    </tr>\n",
       "    <tr>\n",
       "      <th>2</th>\n",
       "      <td>[20-30)</td>\n",
       "      <td>NaN</td>\n",
       "      <td>2</td>\n",
       "      <td>11</td>\n",
       "      <td>5</td>\n",
       "      <td>13</td>\n",
       "      <td>AfricanAmerican</td>\n",
       "      <td>Female</td>\n",
       "      <td>1</td>\n",
       "      <td>1</td>\n",
       "    </tr>\n",
       "    <tr>\n",
       "      <th>3</th>\n",
       "      <td>[30-40)</td>\n",
       "      <td>NaN</td>\n",
       "      <td>2</td>\n",
       "      <td>44</td>\n",
       "      <td>1</td>\n",
       "      <td>16</td>\n",
       "      <td>Caucasian</td>\n",
       "      <td>Male</td>\n",
       "      <td>1</td>\n",
       "      <td>1</td>\n",
       "    </tr>\n",
       "    <tr>\n",
       "      <th>4</th>\n",
       "      <td>[40-50)</td>\n",
       "      <td>NaN</td>\n",
       "      <td>1</td>\n",
       "      <td>51</td>\n",
       "      <td>0</td>\n",
       "      <td>8</td>\n",
       "      <td>Caucasian</td>\n",
       "      <td>Male</td>\n",
       "      <td>1</td>\n",
       "      <td>1</td>\n",
       "    </tr>\n",
       "  </tbody>\n",
       "</table>\n",
       "</div>"
      ],
      "text/plain": [
       "       age weight  time_in_hospital  num_lab_procedures  num_procedures  \\\n",
       "0   [0-10)    NaN                 1                  41               0   \n",
       "1  [10-20)    NaN                 3                  59               0   \n",
       "2  [20-30)    NaN                 2                  11               5   \n",
       "3  [30-40)    NaN                 2                  44               1   \n",
       "4  [40-50)    NaN                 1                  51               0   \n",
       "\n",
       "   num_medications             race  gender admission_type_id  \\\n",
       "0                1        Caucasian  Female                 6   \n",
       "1               18        Caucasian  Female                 1   \n",
       "2               13  AfricanAmerican  Female                 1   \n",
       "3               16        Caucasian    Male                 1   \n",
       "4                8        Caucasian    Male                 1   \n",
       "\n",
       "  discharge_disposition_id  \n",
       "0                       25  \n",
       "1                        1  \n",
       "2                        1  \n",
       "3                        1  \n",
       "4                        1  "
      ]
     },
     "execution_count": 81,
     "metadata": {},
     "output_type": "execute_result"
    }
   ],
   "source": [
    "subset_df.head()"
   ]
  },
  {
   "cell_type": "code",
   "execution_count": 82,
   "id": "3a648ba1-0776-4d9c-94fc-ff9d275c656f",
   "metadata": {},
   "outputs": [
    {
     "name": "stdout",
     "output_type": "stream",
     "text": [
      "age                             0\n",
      "weight                      98569\n",
      "time_in_hospital                0\n",
      "num_lab_procedures              0\n",
      "num_procedures                  0\n",
      "num_medications                 0\n",
      "race                         2273\n",
      "gender                          0\n",
      "admission_type_id               0\n",
      "discharge_disposition_id        0\n",
      "dtype: int64\n"
     ]
    }
   ],
   "source": [
    "#Check for null values once again\n",
    "null_values = subset_df.isnull().sum()\n",
    "print(null_values)"
   ]
  },
  {
   "cell_type": "code",
   "execution_count": 83,
   "id": "a033004f-46ff-4311-ba68-b4d014892c7a",
   "metadata": {},
   "outputs": [],
   "source": [
    "#Drop the weight column\n",
    "subset_df = subset_df.drop('weight', axis = 1)"
   ]
  },
  {
   "cell_type": "code",
   "execution_count": 84,
   "id": "bc4e616d-a45c-4ed7-8d99-02c6d8154ebe",
   "metadata": {},
   "outputs": [
    {
     "data": {
      "text/plain": [
       "(101766, 9)"
      ]
     },
     "execution_count": 84,
     "metadata": {},
     "output_type": "execute_result"
    }
   ],
   "source": [
    "subset_df.shape"
   ]
  },
  {
   "cell_type": "code",
   "execution_count": 85,
   "id": "93e09c80-802d-4b00-abb1-899319f752e7",
   "metadata": {},
   "outputs": [],
   "source": [
    "#Drop Null values\n",
    "subset_df = subset_df.dropna()"
   ]
  },
  {
   "cell_type": "code",
   "execution_count": 86,
   "id": "a4e3d8f5-b381-4ac5-808b-9893870f1fa5",
   "metadata": {},
   "outputs": [
    {
     "name": "stdout",
     "output_type": "stream",
     "text": [
      "age                         0\n",
      "time_in_hospital            0\n",
      "num_lab_procedures          0\n",
      "num_procedures              0\n",
      "num_medications             0\n",
      "race                        0\n",
      "gender                      0\n",
      "admission_type_id           0\n",
      "discharge_disposition_id    0\n",
      "dtype: int64\n"
     ]
    }
   ],
   "source": [
    "#check for null values once again\n",
    "null_values = subset_df.isnull().sum()\n",
    "print(null_values)"
   ]
  },
  {
   "cell_type": "code",
   "execution_count": 87,
   "id": "ed7ddf61-9bdd-41bc-9947-f0bef6e37677",
   "metadata": {},
   "outputs": [],
   "source": [
    "#Remove brackets from age column\n",
    "subset_df['age'] = subset_df['age'].str.replace('[', '').str.replace(')', '')"
   ]
  },
  {
   "cell_type": "code",
   "execution_count": 88,
   "id": "6aba9185-a151-4674-8d7b-c6489a228a1e",
   "metadata": {},
   "outputs": [
    {
     "data": {
      "text/html": [
       "<div>\n",
       "<style scoped>\n",
       "    .dataframe tbody tr th:only-of-type {\n",
       "        vertical-align: middle;\n",
       "    }\n",
       "\n",
       "    .dataframe tbody tr th {\n",
       "        vertical-align: top;\n",
       "    }\n",
       "\n",
       "    .dataframe thead th {\n",
       "        text-align: right;\n",
       "    }\n",
       "</style>\n",
       "<table border=\"1\" class=\"dataframe\">\n",
       "  <thead>\n",
       "    <tr style=\"text-align: right;\">\n",
       "      <th></th>\n",
       "      <th>age</th>\n",
       "      <th>time_in_hospital</th>\n",
       "      <th>num_lab_procedures</th>\n",
       "      <th>num_procedures</th>\n",
       "      <th>num_medications</th>\n",
       "      <th>race</th>\n",
       "      <th>gender</th>\n",
       "      <th>admission_type_id</th>\n",
       "      <th>discharge_disposition_id</th>\n",
       "    </tr>\n",
       "  </thead>\n",
       "  <tbody>\n",
       "    <tr>\n",
       "      <th>0</th>\n",
       "      <td>0-10</td>\n",
       "      <td>1</td>\n",
       "      <td>41</td>\n",
       "      <td>0</td>\n",
       "      <td>1</td>\n",
       "      <td>Caucasian</td>\n",
       "      <td>Female</td>\n",
       "      <td>6</td>\n",
       "      <td>25</td>\n",
       "    </tr>\n",
       "    <tr>\n",
       "      <th>1</th>\n",
       "      <td>10-20</td>\n",
       "      <td>3</td>\n",
       "      <td>59</td>\n",
       "      <td>0</td>\n",
       "      <td>18</td>\n",
       "      <td>Caucasian</td>\n",
       "      <td>Female</td>\n",
       "      <td>1</td>\n",
       "      <td>1</td>\n",
       "    </tr>\n",
       "    <tr>\n",
       "      <th>2</th>\n",
       "      <td>20-30</td>\n",
       "      <td>2</td>\n",
       "      <td>11</td>\n",
       "      <td>5</td>\n",
       "      <td>13</td>\n",
       "      <td>AfricanAmerican</td>\n",
       "      <td>Female</td>\n",
       "      <td>1</td>\n",
       "      <td>1</td>\n",
       "    </tr>\n",
       "    <tr>\n",
       "      <th>3</th>\n",
       "      <td>30-40</td>\n",
       "      <td>2</td>\n",
       "      <td>44</td>\n",
       "      <td>1</td>\n",
       "      <td>16</td>\n",
       "      <td>Caucasian</td>\n",
       "      <td>Male</td>\n",
       "      <td>1</td>\n",
       "      <td>1</td>\n",
       "    </tr>\n",
       "    <tr>\n",
       "      <th>4</th>\n",
       "      <td>40-50</td>\n",
       "      <td>1</td>\n",
       "      <td>51</td>\n",
       "      <td>0</td>\n",
       "      <td>8</td>\n",
       "      <td>Caucasian</td>\n",
       "      <td>Male</td>\n",
       "      <td>1</td>\n",
       "      <td>1</td>\n",
       "    </tr>\n",
       "  </tbody>\n",
       "</table>\n",
       "</div>"
      ],
      "text/plain": [
       "     age  time_in_hospital  num_lab_procedures  num_procedures  \\\n",
       "0   0-10                 1                  41               0   \n",
       "1  10-20                 3                  59               0   \n",
       "2  20-30                 2                  11               5   \n",
       "3  30-40                 2                  44               1   \n",
       "4  40-50                 1                  51               0   \n",
       "\n",
       "   num_medications             race  gender admission_type_id  \\\n",
       "0                1        Caucasian  Female                 6   \n",
       "1               18        Caucasian  Female                 1   \n",
       "2               13  AfricanAmerican  Female                 1   \n",
       "3               16        Caucasian    Male                 1   \n",
       "4                8        Caucasian    Male                 1   \n",
       "\n",
       "  discharge_disposition_id  \n",
       "0                       25  \n",
       "1                        1  \n",
       "2                        1  \n",
       "3                        1  \n",
       "4                        1  "
      ]
     },
     "execution_count": 88,
     "metadata": {},
     "output_type": "execute_result"
    }
   ],
   "source": [
    "subset_df.head()"
   ]
  },
  {
   "cell_type": "markdown",
   "id": "609ebf7f-65a3-4de9-a545-4915be0f4487",
   "metadata": {},
   "source": [
    "## Summary Statistics Numerical Variables"
   ]
  },
  {
   "cell_type": "code",
   "execution_count": 89,
   "id": "6ea55708-417c-4589-8358-b4b8ad4a8449",
   "metadata": {},
   "outputs": [
    {
     "name": "stdout",
     "output_type": "stream",
     "text": [
      "Summary Statistics for Numeric Variables:\n",
      "        time_in_hospital  num_lab_procedures  num_procedures  num_medications\n",
      "count      99493.000000        99493.000000    99493.000000     99493.000000\n",
      "mean           4.398420           43.072588        1.340577        16.026605\n",
      "std            2.986977           19.695858        1.703717         8.119790\n",
      "min            1.000000            1.000000        0.000000         1.000000\n",
      "25%            2.000000           31.000000        0.000000        10.000000\n",
      "50%            4.000000           44.000000        1.000000        15.000000\n",
      "75%            6.000000           57.000000        2.000000        20.000000\n",
      "max           14.000000          132.000000        6.000000        81.000000\n",
      "\n",
      "Median Time in Hospital: 4.0\n",
      "Mode Time in Hospital: 3\n",
      "Range of Time in Hospital: 13\n"
     ]
    }
   ],
   "source": [
    "# Get descriptive statistics for numeric variables\n",
    "numeric_summary = subset_df.describe()\n",
    "# Median Mode and Range  for time in hospital\n",
    "median_time_in_hospital = subset_df['time_in_hospital'].median()\n",
    "mode_time_in_hospital = subset_df['time_in_hospital'].mode()[0]\n",
    "range_time_in_hospital = subset_df['time_in_hospital'].max() - subset_df['time_in_hospital'].min()\n",
    "\n",
    "# Display the results\n",
    "print(\"Summary Statistics for Numeric Variables:\\n\", numeric_summary)\n",
    "print(f\"\\nMedian Time in Hospital: {median_time_in_hospital}\")\n",
    "print(f\"Mode Time in Hospital: {mode_time_in_hospital}\")\n",
    "print(f\"Range of Time in Hospital: {range_time_in_hospital}\")"
   ]
  },
  {
   "cell_type": "markdown",
   "id": "ca82b376-fc9a-48dc-abee-70f72dd3b252",
   "metadata": {},
   "source": [
    "## Summary Statistics Categorical Variables "
   ]
  },
  {
   "cell_type": "code",
   "execution_count": 90,
   "id": "ac399e09-6139-483f-bc3c-1ebb249cf016",
   "metadata": {},
   "outputs": [
    {
     "name": "stdout",
     "output_type": "stream",
     "text": [
      "Summary Statistics for categorical Variables:\n",
      "           age       race  gender  admission_type_id  discharge_disposition_id\n",
      "count   99493      99493   99493              99493                     99493\n",
      "unique     10          5       3                  8                        26\n",
      "top     70-80  Caucasian  Female                  1                         1\n",
      "freq    25469      76099   53575              52900                     58768\n"
     ]
    }
   ],
   "source": [
    "# Get descriptive statistics for categorical variables\n",
    "categorical_summary = subset_df.describe(include='object')\n",
    "# Display the results\n",
    "print(\"Summary Statistics for categorical Variables:\\n\", categorical_summary)"
   ]
  },
  {
   "cell_type": "markdown",
   "id": "4710bedf-76ad-4ec1-b1ef-5be457944132",
   "metadata": {},
   "source": [
    "### Frequency Counts"
   ]
  },
  {
   "cell_type": "code",
   "execution_count": 91,
   "id": "8c8dd271-9bf0-45ea-916d-76e2a1ee47c6",
   "metadata": {},
   "outputs": [
    {
     "data": {
      "text/plain": [
       "age\n",
       "70-80     25469\n",
       "60-70     21988\n",
       "50-60     16895\n",
       "80-90     16800\n",
       "40-50      9465\n",
       "30-40      3699\n",
       "90-100     2724\n",
       "20-30      1611\n",
       "10-20       682\n",
       "0-10        160\n",
       "Name: count, dtype: int64"
      ]
     },
     "execution_count": 91,
     "metadata": {},
     "output_type": "execute_result"
    }
   ],
   "source": [
    "#Age\n",
    "subset_df['age'].value_counts()\n"
   ]
  },
  {
   "cell_type": "code",
   "execution_count": 92,
   "id": "ed1db2e4-9eda-4f30-88ca-fb16e27da0a7",
   "metadata": {},
   "outputs": [
    {
     "data": {
      "text/plain": [
       "race\n",
       "Caucasian          76099\n",
       "AfricanAmerican    19210\n",
       "Hispanic            2037\n",
       "Other               1506\n",
       "Asian                641\n",
       "Name: count, dtype: int64"
      ]
     },
     "execution_count": 92,
     "metadata": {},
     "output_type": "execute_result"
    }
   ],
   "source": [
    "#Race\n",
    "subset_df['race'].value_counts()"
   ]
  },
  {
   "cell_type": "code",
   "execution_count": 93,
   "id": "789506e0-6b6a-4d01-9f1b-34938f118512",
   "metadata": {},
   "outputs": [
    {
     "data": {
      "text/plain": [
       "gender\n",
       "Female             53575\n",
       "Male               45917\n",
       "Unknown/Invalid        1\n",
       "Name: count, dtype: int64"
      ]
     },
     "execution_count": 93,
     "metadata": {},
     "output_type": "execute_result"
    }
   ],
   "source": [
    "#Gender\n",
    "subset_df['gender'].value_counts()"
   ]
  },
  {
   "cell_type": "code",
   "execution_count": 94,
   "id": "8f68f21b-6006-4077-874c-876b4d4b0e55",
   "metadata": {},
   "outputs": [
    {
     "data": {
      "text/plain": [
       "admission_type_id\n",
       "1    52900\n",
       "3    18508\n",
       "2    17786\n",
       "6     5225\n",
       "5     4727\n",
       "8      317\n",
       "7       20\n",
       "4       10\n",
       "Name: count, dtype: int64"
      ]
     },
     "execution_count": 94,
     "metadata": {},
     "output_type": "execute_result"
    }
   ],
   "source": [
    "#Admission Type\n",
    "subset_df['admission_type_id'].value_counts()"
   ]
  },
  {
   "cell_type": "code",
   "execution_count": 95,
   "id": "c78cbce6-b190-4c58-a07d-c9e2ccefef13",
   "metadata": {},
   "outputs": [
    {
     "data": {
      "text/plain": [
       "discharge_disposition_id\n",
       "1     58768\n",
       "3     13614\n",
       "6     12698\n",
       "18     3673\n",
       "2      2061\n",
       "22     1981\n",
       "11     1608\n",
       "5      1143\n",
       "25      973\n",
       "4       765\n",
       "7       611\n",
       "23      406\n",
       "13      397\n",
       "14      369\n",
       "28      138\n",
       "8       107\n",
       "15       63\n",
       "24       48\n",
       "9        21\n",
       "17       14\n",
       "16       11\n",
       "19        8\n",
       "10        6\n",
       "27        5\n",
       "12        3\n",
       "20        2\n",
       "Name: count, dtype: int64"
      ]
     },
     "execution_count": 95,
     "metadata": {},
     "output_type": "execute_result"
    }
   ],
   "source": [
    "# Discharge Disposition\n",
    "subset_df['discharge_disposition_id'].value_counts()"
   ]
  },
  {
   "cell_type": "markdown",
   "id": "6d749615-ef7c-4a85-8ccf-33f808ea1139",
   "metadata": {},
   "source": [
    "### Proportions"
   ]
  },
  {
   "cell_type": "code",
   "execution_count": 96,
   "id": "5cdec9a9-8db8-4993-9501-078c50cf1bde",
   "metadata": {},
   "outputs": [
    {
     "data": {
      "text/plain": [
       "age\n",
       "70-80     0.255988\n",
       "60-70     0.221000\n",
       "50-60     0.169811\n",
       "80-90     0.168856\n",
       "40-50     0.095132\n",
       "30-40     0.037178\n",
       "90-100    0.027379\n",
       "20-30     0.016192\n",
       "10-20     0.006855\n",
       "0-10      0.001608\n",
       "Name: proportion, dtype: float64"
      ]
     },
     "execution_count": 96,
     "metadata": {},
     "output_type": "execute_result"
    }
   ],
   "source": [
    "#Age\n",
    "subset_df['age'].value_counts(normalize=True)"
   ]
  },
  {
   "cell_type": "code",
   "execution_count": 97,
   "id": "53d62427-e57d-442c-b330-abc5622af7a8",
   "metadata": {},
   "outputs": [
    {
     "data": {
      "text/plain": [
       "race\n",
       "Caucasian          0.764868\n",
       "AfricanAmerican    0.193079\n",
       "Hispanic           0.020474\n",
       "Other              0.015137\n",
       "Asian              0.006443\n",
       "Name: proportion, dtype: float64"
      ]
     },
     "execution_count": 97,
     "metadata": {},
     "output_type": "execute_result"
    }
   ],
   "source": [
    "#Race\n",
    "subset_df['race'].value_counts(normalize=True)"
   ]
  },
  {
   "cell_type": "code",
   "execution_count": 98,
   "id": "a8c5be29-0d2e-468b-8c48-b411339f34ae",
   "metadata": {},
   "outputs": [
    {
     "data": {
      "text/plain": [
       "gender\n",
       "Female             0.53848\n",
       "Male               0.46151\n",
       "Unknown/Invalid    0.00001\n",
       "Name: proportion, dtype: float64"
      ]
     },
     "execution_count": 98,
     "metadata": {},
     "output_type": "execute_result"
    }
   ],
   "source": [
    "#Gender\n",
    "subset_df['gender'].value_counts(normalize=True)"
   ]
  },
  {
   "cell_type": "code",
   "execution_count": 99,
   "id": "f80d3a61-3b5e-4cb7-b2ba-4c2961aaca59",
   "metadata": {},
   "outputs": [
    {
     "data": {
      "text/plain": [
       "admission_type_id\n",
       "1    0.531696\n",
       "3    0.186023\n",
       "2    0.178766\n",
       "6    0.052516\n",
       "5    0.047511\n",
       "8    0.003186\n",
       "7    0.000201\n",
       "4    0.000101\n",
       "Name: proportion, dtype: float64"
      ]
     },
     "execution_count": 99,
     "metadata": {},
     "output_type": "execute_result"
    }
   ],
   "source": [
    "#Admission Type\n",
    "subset_df['admission_type_id'].value_counts(normalize=True)"
   ]
  },
  {
   "cell_type": "code",
   "execution_count": 100,
   "id": "6b7a2388-b33b-4001-8fde-f329dafd0432",
   "metadata": {},
   "outputs": [
    {
     "data": {
      "text/plain": [
       "discharge_disposition_id\n",
       "1     0.590675\n",
       "3     0.136834\n",
       "6     0.127627\n",
       "18    0.036917\n",
       "2     0.020715\n",
       "22    0.019911\n",
       "11    0.016162\n",
       "5     0.011488\n",
       "25    0.009780\n",
       "4     0.007689\n",
       "7     0.006141\n",
       "23    0.004081\n",
       "13    0.003990\n",
       "14    0.003709\n",
       "28    0.001387\n",
       "8     0.001075\n",
       "15    0.000633\n",
       "24    0.000482\n",
       "9     0.000211\n",
       "17    0.000141\n",
       "16    0.000111\n",
       "19    0.000080\n",
       "10    0.000060\n",
       "27    0.000050\n",
       "12    0.000030\n",
       "20    0.000020\n",
       "Name: proportion, dtype: float64"
      ]
     },
     "execution_count": 100,
     "metadata": {},
     "output_type": "execute_result"
    }
   ],
   "source": [
    "#Discharge Disposition\n",
    "subset_df['discharge_disposition_id'].value_counts(normalize=True)"
   ]
  },
  {
   "cell_type": "markdown",
   "id": "148a9ac1-d866-48b0-9ebf-9d28d95dcc48",
   "metadata": {},
   "source": [
    "### Pivot Tables"
   ]
  },
  {
   "cell_type": "code",
   "execution_count": 101,
   "id": "b9f0ad96-dee8-41a6-acff-602fb8758ff8",
   "metadata": {},
   "outputs": [
    {
     "data": {
      "text/html": [
       "<div>\n",
       "<style scoped>\n",
       "    .dataframe tbody tr th:only-of-type {\n",
       "        vertical-align: middle;\n",
       "    }\n",
       "\n",
       "    .dataframe tbody tr th {\n",
       "        vertical-align: top;\n",
       "    }\n",
       "\n",
       "    .dataframe thead th {\n",
       "        text-align: right;\n",
       "    }\n",
       "</style>\n",
       "<table border=\"1\" class=\"dataframe\">\n",
       "  <thead>\n",
       "    <tr style=\"text-align: right;\">\n",
       "      <th></th>\n",
       "      <th>Mean Time in Hospital</th>\n",
       "      <th>Mean Number of Procedures</th>\n",
       "    </tr>\n",
       "    <tr>\n",
       "      <th>age</th>\n",
       "      <th></th>\n",
       "      <th></th>\n",
       "    </tr>\n",
       "  </thead>\n",
       "  <tbody>\n",
       "    <tr>\n",
       "      <th>0-10</th>\n",
       "      <td>0.181250</td>\n",
       "      <td>2.550000</td>\n",
       "    </tr>\n",
       "    <tr>\n",
       "      <th>10-20</th>\n",
       "      <td>0.329912</td>\n",
       "      <td>3.208211</td>\n",
       "    </tr>\n",
       "    <tr>\n",
       "      <th>20-30</th>\n",
       "      <td>0.773433</td>\n",
       "      <td>3.568591</td>\n",
       "    </tr>\n",
       "    <tr>\n",
       "      <th>30-40</th>\n",
       "      <td>1.117599</td>\n",
       "      <td>3.802920</td>\n",
       "    </tr>\n",
       "    <tr>\n",
       "      <th>40-50</th>\n",
       "      <td>1.337771</td>\n",
       "      <td>4.046064</td>\n",
       "    </tr>\n",
       "    <tr>\n",
       "      <th>50-60</th>\n",
       "      <td>1.551820</td>\n",
       "      <td>4.128973</td>\n",
       "    </tr>\n",
       "    <tr>\n",
       "      <th>60-70</th>\n",
       "      <td>1.572812</td>\n",
       "      <td>4.387166</td>\n",
       "    </tr>\n",
       "    <tr>\n",
       "      <th>70-80</th>\n",
       "      <td>1.380698</td>\n",
       "      <td>4.595469</td>\n",
       "    </tr>\n",
       "    <tr>\n",
       "      <th>80-90</th>\n",
       "      <td>1.028214</td>\n",
       "      <td>4.804345</td>\n",
       "    </tr>\n",
       "    <tr>\n",
       "      <th>90-100</th>\n",
       "      <td>0.676211</td>\n",
       "      <td>4.744860</td>\n",
       "    </tr>\n",
       "  </tbody>\n",
       "</table>\n",
       "</div>"
      ],
      "text/plain": [
       "        Mean Time in Hospital  Mean Number of Procedures\n",
       "age                                                     \n",
       "0-10                 0.181250                   2.550000\n",
       "10-20                0.329912                   3.208211\n",
       "20-30                0.773433                   3.568591\n",
       "30-40                1.117599                   3.802920\n",
       "40-50                1.337771                   4.046064\n",
       "50-60                1.551820                   4.128973\n",
       "60-70                1.572812                   4.387166\n",
       "70-80                1.380698                   4.595469\n",
       "80-90                1.028214                   4.804345\n",
       "90-100               0.676211                   4.744860"
      ]
     },
     "execution_count": 101,
     "metadata": {},
     "output_type": "execute_result"
    }
   ],
   "source": [
    "#Age vs Time in hospital and number of procedures\n",
    "age=subset_df.pivot_table(index='age', values=['time_in_hospital','num_procedures'], aggfunc='mean')\n",
    "age.columns = ['Mean Time in Hospital', 'Mean Number of Procedures']\n",
    "age"
   ]
  },
  {
   "cell_type": "code",
   "execution_count": 102,
   "id": "83c7214c-b520-4446-a85c-269109ef4016",
   "metadata": {},
   "outputs": [
    {
     "data": {
      "text/html": [
       "<div>\n",
       "<style scoped>\n",
       "    .dataframe tbody tr th:only-of-type {\n",
       "        vertical-align: middle;\n",
       "    }\n",
       "\n",
       "    .dataframe tbody tr th {\n",
       "        vertical-align: top;\n",
       "    }\n",
       "\n",
       "    .dataframe thead th {\n",
       "        text-align: right;\n",
       "    }\n",
       "</style>\n",
       "<table border=\"1\" class=\"dataframe\">\n",
       "  <thead>\n",
       "    <tr style=\"text-align: right;\">\n",
       "      <th></th>\n",
       "      <th>Mean Time in Hospital</th>\n",
       "      <th>Mean Number of Procedures</th>\n",
       "    </tr>\n",
       "    <tr>\n",
       "      <th>gender</th>\n",
       "      <th></th>\n",
       "      <th></th>\n",
       "    </tr>\n",
       "  </thead>\n",
       "  <tbody>\n",
       "    <tr>\n",
       "      <th>Female</th>\n",
       "      <td>1.244685</td>\n",
       "      <td>4.479832</td>\n",
       "    </tr>\n",
       "    <tr>\n",
       "      <th>Male</th>\n",
       "      <td>1.452381</td>\n",
       "      <td>4.303504</td>\n",
       "    </tr>\n",
       "    <tr>\n",
       "      <th>Unknown/Invalid</th>\n",
       "      <td>5.000000</td>\n",
       "      <td>1.000000</td>\n",
       "    </tr>\n",
       "  </tbody>\n",
       "</table>\n",
       "</div>"
      ],
      "text/plain": [
       "                 Mean Time in Hospital  Mean Number of Procedures\n",
       "gender                                                           \n",
       "Female                        1.244685                   4.479832\n",
       "Male                          1.452381                   4.303504\n",
       "Unknown/Invalid               5.000000                   1.000000"
      ]
     },
     "execution_count": 102,
     "metadata": {},
     "output_type": "execute_result"
    }
   ],
   "source": [
    "#Gender vs Time in hospital and number of procedures\n",
    "gender=subset_df.pivot_table(index='gender', values=['time_in_hospital','num_procedures'], aggfunc='mean')\n",
    "gender.columns = ['Mean Time in Hospital', 'Mean Number of Procedures']\n",
    "gender"
   ]
  },
  {
   "cell_type": "code",
   "execution_count": 103,
   "id": "5b8ed834-b1f4-4685-9cb0-6558953e381e",
   "metadata": {},
   "outputs": [
    {
     "data": {
      "text/html": [
       "<div>\n",
       "<style scoped>\n",
       "    .dataframe tbody tr th:only-of-type {\n",
       "        vertical-align: middle;\n",
       "    }\n",
       "\n",
       "    .dataframe tbody tr th {\n",
       "        vertical-align: top;\n",
       "    }\n",
       "\n",
       "    .dataframe thead th {\n",
       "        text-align: right;\n",
       "    }\n",
       "</style>\n",
       "<table border=\"1\" class=\"dataframe\">\n",
       "  <thead>\n",
       "    <tr style=\"text-align: right;\">\n",
       "      <th></th>\n",
       "      <th>Mean Time in Hospital</th>\n",
       "      <th>Mean Number of Procedures</th>\n",
       "    </tr>\n",
       "    <tr>\n",
       "      <th>race</th>\n",
       "      <th></th>\n",
       "      <th></th>\n",
       "    </tr>\n",
       "  </thead>\n",
       "  <tbody>\n",
       "    <tr>\n",
       "      <th>AfricanAmerican</th>\n",
       "      <td>1.234669</td>\n",
       "      <td>4.507860</td>\n",
       "    </tr>\n",
       "    <tr>\n",
       "      <th>Asian</th>\n",
       "      <td>1.344774</td>\n",
       "      <td>3.995320</td>\n",
       "    </tr>\n",
       "    <tr>\n",
       "      <th>Caucasian</th>\n",
       "      <td>1.369466</td>\n",
       "      <td>4.385721</td>\n",
       "    </tr>\n",
       "    <tr>\n",
       "      <th>Hispanic</th>\n",
       "      <td>1.116838</td>\n",
       "      <td>4.059892</td>\n",
       "    </tr>\n",
       "    <tr>\n",
       "      <th>Other</th>\n",
       "      <td>1.532537</td>\n",
       "      <td>4.273572</td>\n",
       "    </tr>\n",
       "  </tbody>\n",
       "</table>\n",
       "</div>"
      ],
      "text/plain": [
       "                 Mean Time in Hospital  Mean Number of Procedures\n",
       "race                                                             \n",
       "AfricanAmerican               1.234669                   4.507860\n",
       "Asian                         1.344774                   3.995320\n",
       "Caucasian                     1.369466                   4.385721\n",
       "Hispanic                      1.116838                   4.059892\n",
       "Other                         1.532537                   4.273572"
      ]
     },
     "execution_count": 103,
     "metadata": {},
     "output_type": "execute_result"
    }
   ],
   "source": [
    "#Race vs Time in hospital and number of procedures\n",
    "race=subset_df.pivot_table(index='race', values=['time_in_hospital','num_procedures'], aggfunc='mean')\n",
    "race.columns = ['Mean Time in Hospital', 'Mean Number of Procedures']\n",
    "race"
   ]
  },
  {
   "cell_type": "markdown",
   "id": "8c11e1a5-a34a-4064-83c2-a786a7facf61",
   "metadata": {},
   "source": [
    "## Visualizations"
   ]
  },
  {
   "cell_type": "markdown",
   "id": "f897c87c-c4ef-4f70-8c9e-9c37cbba92f0",
   "metadata": {},
   "source": [
    "#### Histograms"
   ]
  },
  {
   "cell_type": "code",
   "execution_count": 104,
   "id": "686c1e79-f3a6-432a-832d-7ffcfef2826e",
   "metadata": {},
   "outputs": [
    {
     "data": {
      "image/png": "[encoded data removed]",
      "text/plain": [
       "<Figure size 1000x1500 with 3 Axes>"
      ]
     },
     "metadata": {},
     "output_type": "display_data"
    }
   ],
   "source": [
    "#Histograms of numerical variables\n",
    "fig, axes = plt.subplots(nrows=3, ncols=1, figsize=(10, 15))  # 3 rows, 1 column\n",
    "\n",
    "# Histogram for Time in Hospital\n",
    "axes[0].hist(subset_df['time_in_hospital'], bins=30, color='blue', alpha=0.7)\n",
    "axes[0].set_title('Histogram of Time in Hospital')\n",
    "axes[0].set_xlabel('Days')\n",
    "axes[0].set_ylabel('Frequency')\n",
    "\n",
    "# Histogram for Number of Procedures\n",
    "axes[1].hist(subset_df['num_procedures'], bins=30, color='orange', alpha=0.7)\n",
    "axes[1].set_title('Histogram of Number of Procedures')\n",
    "axes[1].set_xlabel('Number of Procedures')\n",
    "axes[1].set_ylabel('Frequency')\n",
    "\n",
    "# Histogram for Number of Medications\n",
    "axes[2].hist(subset_df['num_medications'], bins=30, color='green', alpha=0.7)\n",
    "axes[2].set_title('Histogram of Number of Medications')\n",
    "axes[2].set_xlabel('Number of Medications')\n",
    "axes[2].set_ylabel('Frequency')\n",
    "\n",
    "# Display the plot\n",
    "plt.show()\n"
   ]
  },
  {
   "cell_type": "markdown",
   "id": "70e09fd7-abf0-4851-8ced-eb70b6a5352b",
   "metadata": {},
   "source": [
    "#### Bar Charts"
   ]
  },
  {
   "cell_type": "code",
   "execution_count": 117,
   "id": "0554ce84-efc1-4e0d-9c19-243a2c598bb7",
   "metadata": {},
   "outputs": [
    {
     "data": {
      "image/png": "[encoded data removed]",
      "text/plain": [
       "<Figure size 1000x3000 with 5 Axes>"
      ]
     },
     "metadata": {},
     "output_type": "display_data"
    }
   ],
   "source": [
    "#Bar charts of categorical variables\n",
    "# Prepare count data for each categorical variable\n",
    "gender_counts = subset_df['gender'].value_counts()\n",
    "age_counts = subset_df['age'].value_counts()\n",
    "race_counts = subset_df['race'].value_counts()\n",
    "admission_counts = subset_df['admission_type_id'].value_counts()\n",
    "discharge_counts = subset_df['discharge_disposition_id'].value_counts()\n",
    "\n",
    "# Create subplots\n",
    "fig, axes = plt.subplots(nrows=5, ncols=1, figsize=(10, 30))  \n",
    "\n",
    "# Bar chart for Gender\n",
    "axes[0].bar(gender_counts.index, gender_counts.values, color='blue', alpha=0.7)\n",
    "axes[0].set_title('Count of Gender', fontsize=14)\n",
    "axes[0].set_xlabel('Gender', fontsize=12)\n",
    "axes[0].set_ylabel('Counts', fontsize=12)\n",
    "\n",
    "# Bar chart for Age\n",
    "axes[1].bar(age_counts.index, age_counts.values, color='orange', alpha=0.7)\n",
    "axes[1].set_title('Count of Age Groups', fontsize=14)\n",
    "axes[1].set_xlabel('Age Groups', fontsize=12)\n",
    "axes[1].set_ylabel('Counts', fontsize=12)\n",
    "\n",
    "# Bar chart for Race\n",
    "axes[2].bar(race_counts.index, race_counts.values, color='green', alpha=0.7)\n",
    "axes[2].set_title('Count of Race', fontsize=14)\n",
    "axes[2].set_xlabel('Race', fontsize=12)\n",
    "axes[2].set_ylabel('Counts', fontsize=12)\n",
    "\n",
    "# Bar chart for Admission Type\n",
    "axes[3].bar(admission_counts.index, admission_counts.values, color='purple', alpha=0.7)\n",
    "axes[3].set_title('Count of Admission Type', fontsize=14)\n",
    "axes[3].set_xlabel('Admission Type', fontsize=12)\n",
    "axes[3].set_ylabel('Counts', fontsize=12)\n",
    "\n",
    "# Bar chart for Discharge Disposition\n",
    "axes[4].bar(discharge_counts.index, discharge_counts.values, color='red', alpha=0.7)\n",
    "axes[4].set_title('Count of Discharge Disposition', fontsize=14)\n",
    "axes[4].set_xlabel('Discharge Disposition', fontsize=12)\n",
    "axes[4].set_ylabel('Counts', fontsize=12)\n",
    "\n",
    "# Display the plot\n",
    "plt.show()"
   ]
  },
  {
   "cell_type": "markdown",
   "id": "723c89d6-0d93-4a43-895c-bb8979414b3a",
   "metadata": {},
   "source": [
    "#### Pivot Charts"
   ]
  },
  {
   "cell_type": "code",
   "execution_count": 106,
   "id": "dfb28393-6104-4d07-8fb2-c905208271a9",
   "metadata": {},
   "outputs": [
    {
     "data": {
      "text/plain": [
       "<Axes: title={'center': 'Mean Time in Hospital by Age Group and Gender'}, ylabel='age'>"
      ]
     },
     "execution_count": 106,
     "metadata": {},
     "output_type": "execute_result"
    },
    {
     "data": {
      "image/png": "[encoded data removed]",
      "text/plain": [
       "<Figure size 1000x700 with 1 Axes>"
      ]
     },
     "metadata": {},
     "output_type": "display_data"
    }
   ],
   "source": [
    "#Bar chart of Mean time in hospital by Age and Gender \n",
    "np.round(pd.pivot_table(subset_df, values='time_in_hospital', \n",
    "                                index=['age'], \n",
    "                                columns=['gender'], \n",
    "                                aggfunc='mean',\n",
    "                                fill_value=0),2).plot.barh(figsize=(10,7),\n",
    "                                                          title='Mean Time in Hospital by Age Group and Gender')"
   ]
  },
  {
   "cell_type": "code",
   "execution_count": 107,
   "id": "065b8a95-0281-4a36-b508-39189ce755b5",
   "metadata": {},
   "outputs": [
    {
     "data": {
      "text/plain": [
       "<Axes: title={'center': 'Mean Time in Hospital by Age Group and Race'}, ylabel='age'>"
      ]
     },
     "execution_count": 107,
     "metadata": {},
     "output_type": "execute_result"
    },
    {
     "data": {
      "image/png": "[encoded data removed]",
      "text/plain": [
       "<Figure size 1000x700 with 1 Axes>"
      ]
     },
     "metadata": {},
     "output_type": "display_data"
    }
   ],
   "source": [
    "#Bar chart of Mean time in hospital by Age and Race\n",
    "np.round(pd.pivot_table(subset_df, values='time_in_hospital', \n",
    "                                index=['age'], \n",
    "                                columns=['race'], \n",
    "                                aggfunc='mean',\n",
    "                                fill_value=0),2).plot.barh(figsize=(10,7),\n",
    "                                                          title='Mean Time in Hospital by Age Group and Race')"
   ]
  },
  {
   "cell_type": "code",
   "execution_count": 108,
   "id": "6e144da0-b90d-4768-a2eb-2474052dec73",
   "metadata": {},
   "outputs": [
    {
     "data": {
      "text/plain": [
       "<Axes: title={'center': 'Mean Time in Hospital by Age Group and Admission Type'}, ylabel='age'>"
      ]
     },
     "execution_count": 108,
     "metadata": {},
     "output_type": "execute_result"
    },
    {
     "data": {
      "image/png": "[encoded data removed]",
      "text/plain": [
       "<Figure size 1000x700 with 1 Axes>"
      ]
     },
     "metadata": {},
     "output_type": "display_data"
    }
   ],
   "source": [
    "#Bar chart of Mean time in hospital by Age and Admission Type\n",
    "np.round(pd.pivot_table(subset_df, values='time_in_hospital', \n",
    "                                index=['age'], \n",
    "                                columns=['admission_type_id'], \n",
    "                                aggfunc='mean',\n",
    "                                fill_value=0),2).plot.barh(figsize=(10,7),\n",
    "                                                          title='Mean Time in Hospital by Age Group and Admission Type')"
   ]
  },
  {
   "cell_type": "code",
   "execution_count": 109,
   "id": "d85b31f5-f53b-48c9-acc4-fa8563fd0002",
   "metadata": {},
   "outputs": [
    {
     "data": {
      "text/html": [
       "<style type=\"text/css\">\n",
       "#T_9fd35_row0_col0 {\n",
       "  width: 10em;\n",
       "  background: linear-gradient(90deg, #d65f5f 65.6%, transparent 65.6%);\n",
       "}\n",
       "#T_9fd35_row0_col1, #T_9fd35_row3_col0 {\n",
       "  width: 10em;\n",
       "  background: linear-gradient(90deg, #d65f5f 100.0%, transparent 100.0%);\n",
       "}\n",
       "#T_9fd35_row1_col0 {\n",
       "  width: 10em;\n",
       "  background: linear-gradient(90deg, #d65f5f 43.3%, transparent 43.3%);\n",
       "}\n",
       "#T_9fd35_row1_col1 {\n",
       "  width: 10em;\n",
       "  background: linear-gradient(90deg, #d65f5f 98.8%, transparent 98.8%);\n",
       "}\n",
       "#T_9fd35_row2_col0 {\n",
       "  width: 10em;\n",
       "  background: linear-gradient(90deg, #d65f5f 87.9%, transparent 87.9%);\n",
       "}\n",
       "#T_9fd35_row2_col1 {\n",
       "  width: 10em;\n",
       "  background: linear-gradient(90deg, #d65f5f 95.8%, transparent 95.8%);\n",
       "}\n",
       "#T_9fd35_row3_col1 {\n",
       "  width: 10em;\n",
       "  background: linear-gradient(90deg, #d65f5f 91.5%, transparent 91.5%);\n",
       "}\n",
       "#T_9fd35_row4_col0 {\n",
       "  width: 10em;\n",
       "  background: linear-gradient(90deg, #d65f5f 98.7%, transparent 98.7%);\n",
       "}\n",
       "#T_9fd35_row4_col1 {\n",
       "  width: 10em;\n",
       "  background: linear-gradient(90deg, #d65f5f 86.0%, transparent 86.0%);\n",
       "}\n",
       "#T_9fd35_row5_col0 {\n",
       "  width: 10em;\n",
       "  background: linear-gradient(90deg, #d65f5f 85.4%, transparent 85.4%);\n",
       "}\n",
       "#T_9fd35_row5_col1 {\n",
       "  width: 10em;\n",
       "  background: linear-gradient(90deg, #d65f5f 84.4%, transparent 84.4%);\n",
       "}\n",
       "#T_9fd35_row6_col0 {\n",
       "  width: 10em;\n",
       "  background: linear-gradient(90deg, #d65f5f 71.3%, transparent 71.3%);\n",
       "}\n",
       "#T_9fd35_row6_col1 {\n",
       "  width: 10em;\n",
       "  background: linear-gradient(90deg, #d65f5f 79.2%, transparent 79.2%);\n",
       "}\n",
       "#T_9fd35_row7_col0 {\n",
       "  width: 10em;\n",
       "  background: linear-gradient(90deg, #d65f5f 49.0%, transparent 49.0%);\n",
       "}\n",
       "#T_9fd35_row7_col1 {\n",
       "  width: 10em;\n",
       "  background: linear-gradient(90deg, #d65f5f 74.4%, transparent 74.4%);\n",
       "}\n",
       "#T_9fd35_row8_col0 {\n",
       "  width: 10em;\n",
       "  background: linear-gradient(90deg, #d65f5f 21.0%, transparent 21.0%);\n",
       "}\n",
       "#T_9fd35_row8_col1 {\n",
       "  width: 10em;\n",
       "  background: linear-gradient(90deg, #d65f5f 66.9%, transparent 66.9%);\n",
       "}\n",
       "#T_9fd35_row9_col0 {\n",
       "  width: 10em;\n",
       "  background: linear-gradient(90deg, #d65f5f 11.5%, transparent 11.5%);\n",
       "}\n",
       "#T_9fd35_row9_col1 {\n",
       "  width: 10em;\n",
       "  background: linear-gradient(90deg, #d65f5f 53.1%, transparent 53.1%);\n",
       "}\n",
       "</style>\n",
       "<table id=\"T_9fd35\">\n",
       "  <thead>\n",
       "    <tr>\n",
       "      <th class=\"blank level0\" >&nbsp;</th>\n",
       "      <th id=\"T_9fd35_level0_col0\" class=\"col_heading level0 col0\" >num_procedures</th>\n",
       "      <th id=\"T_9fd35_level0_col1\" class=\"col_heading level0 col1\" >time_in_hospital</th>\n",
       "    </tr>\n",
       "    <tr>\n",
       "      <th class=\"index_name level0\" >age</th>\n",
       "      <th class=\"blank col0\" >&nbsp;</th>\n",
       "      <th class=\"blank col1\" >&nbsp;</th>\n",
       "    </tr>\n",
       "  </thead>\n",
       "  <tbody>\n",
       "    <tr>\n",
       "      <th id=\"T_9fd35_level0_row0\" class=\"row_heading level0 row0\" >80-90</th>\n",
       "      <td id=\"T_9fd35_row0_col0\" class=\"data row0 col0\" >1.03</td>\n",
       "      <td id=\"T_9fd35_row0_col1\" class=\"data row0 col1\" >4.80</td>\n",
       "    </tr>\n",
       "    <tr>\n",
       "      <th id=\"T_9fd35_level0_row1\" class=\"row_heading level0 row1\" >90-100</th>\n",
       "      <td id=\"T_9fd35_row1_col0\" class=\"data row1 col0\" >0.68</td>\n",
       "      <td id=\"T_9fd35_row1_col1\" class=\"data row1 col1\" >4.74</td>\n",
       "    </tr>\n",
       "    <tr>\n",
       "      <th id=\"T_9fd35_level0_row2\" class=\"row_heading level0 row2\" >70-80</th>\n",
       "      <td id=\"T_9fd35_row2_col0\" class=\"data row2 col0\" >1.38</td>\n",
       "      <td id=\"T_9fd35_row2_col1\" class=\"data row2 col1\" >4.60</td>\n",
       "    </tr>\n",
       "    <tr>\n",
       "      <th id=\"T_9fd35_level0_row3\" class=\"row_heading level0 row3\" >60-70</th>\n",
       "      <td id=\"T_9fd35_row3_col0\" class=\"data row3 col0\" >1.57</td>\n",
       "      <td id=\"T_9fd35_row3_col1\" class=\"data row3 col1\" >4.39</td>\n",
       "    </tr>\n",
       "    <tr>\n",
       "      <th id=\"T_9fd35_level0_row4\" class=\"row_heading level0 row4\" >50-60</th>\n",
       "      <td id=\"T_9fd35_row4_col0\" class=\"data row4 col0\" >1.55</td>\n",
       "      <td id=\"T_9fd35_row4_col1\" class=\"data row4 col1\" >4.13</td>\n",
       "    </tr>\n",
       "    <tr>\n",
       "      <th id=\"T_9fd35_level0_row5\" class=\"row_heading level0 row5\" >40-50</th>\n",
       "      <td id=\"T_9fd35_row5_col0\" class=\"data row5 col0\" >1.34</td>\n",
       "      <td id=\"T_9fd35_row5_col1\" class=\"data row5 col1\" >4.05</td>\n",
       "    </tr>\n",
       "    <tr>\n",
       "      <th id=\"T_9fd35_level0_row6\" class=\"row_heading level0 row6\" >30-40</th>\n",
       "      <td id=\"T_9fd35_row6_col0\" class=\"data row6 col0\" >1.12</td>\n",
       "      <td id=\"T_9fd35_row6_col1\" class=\"data row6 col1\" >3.80</td>\n",
       "    </tr>\n",
       "    <tr>\n",
       "      <th id=\"T_9fd35_level0_row7\" class=\"row_heading level0 row7\" >20-30</th>\n",
       "      <td id=\"T_9fd35_row7_col0\" class=\"data row7 col0\" >0.77</td>\n",
       "      <td id=\"T_9fd35_row7_col1\" class=\"data row7 col1\" >3.57</td>\n",
       "    </tr>\n",
       "    <tr>\n",
       "      <th id=\"T_9fd35_level0_row8\" class=\"row_heading level0 row8\" >10-20</th>\n",
       "      <td id=\"T_9fd35_row8_col0\" class=\"data row8 col0\" >0.33</td>\n",
       "      <td id=\"T_9fd35_row8_col1\" class=\"data row8 col1\" >3.21</td>\n",
       "    </tr>\n",
       "    <tr>\n",
       "      <th id=\"T_9fd35_level0_row9\" class=\"row_heading level0 row9\" >0-10</th>\n",
       "      <td id=\"T_9fd35_row9_col0\" class=\"data row9 col0\" >0.18</td>\n",
       "      <td id=\"T_9fd35_row9_col1\" class=\"data row9 col1\" >2.55</td>\n",
       "    </tr>\n",
       "  </tbody>\n",
       "</table>\n"
      ],
      "text/plain": [
       "<pandas.io.formats.style.Styler at 0x250a1affc50>"
      ]
     },
     "execution_count": 109,
     "metadata": {},
     "output_type": "execute_result"
    }
   ],
   "source": [
    "#Bar chart of Mean time in hospital and number of procedures given Age\n",
    "pivot = np.round(pd.pivot_table(subset_df, values=['time_in_hospital', 'num_procedures'], \n",
    "                                index=['age'], \n",
    "                                aggfunc='mean',\n",
    "                                fill_value=0),2)\n",
    "                                \n",
    "pivot = pivot.reindex(pivot['time_in_hospital'].sort_values(ascending=False).index).nlargest(10, 'time_in_hospital')\n",
    "\n",
    "pivot.style.format({'time_in_hospital': '{:.2f}',\n",
    "                   'num_procedures': '{:.2f}'}).bar(color='#d65f5f')\n"
   ]
  },
  {
   "cell_type": "code",
   "execution_count": 110,
   "id": "92e95614-28cd-4900-8cd9-c16eb8b413f9",
   "metadata": {},
   "outputs": [
    {
     "data": {
      "image/png": "[encoded data removed]",
      "text/plain": [
       "<Figure size 1000x600 with 1 Axes>"
      ]
     },
     "metadata": {},
     "output_type": "display_data"
    }
   ],
   "source": [
    "#Bar chart of average time in hospital by age group\n",
    "mean_time_in_hospital = subset_df.groupby('age')['time_in_hospital'].mean().sort_index()\n",
    "\n",
    "# Create the bar chart\n",
    "plt.figure(figsize=(10, 6))\n",
    "mean_time_in_hospital.plot(kind='bar', color='#4CAF50')\n",
    "\n",
    "# Set the title and labels\n",
    "plt.title('Average Time in Hospital by Age Group', fontsize=16)\n",
    "plt.xlabel('Age Group', fontsize=12)\n",
    "plt.ylabel('Average Time in Hospital (days)', fontsize=12)\n",
    "plt.xticks(rotation=45)\n",
    "plt.grid(axis='y')\n",
    "\n",
    "# Show the plot\n",
    "plt.tight_layout()\n",
    "plt.show()"
   ]
  },
  {
   "cell_type": "code",
   "execution_count": null,
   "id": "4ce960c4-6b4e-41e1-988c-c5b277305bdc",
   "metadata": {},
   "outputs": [],
   "source": []
  }
 ],
 "metadata": {
  "kernelspec": {
   "display_name": "Python 3",
   "language": "python",
   "name": "python3"
  },
  "language_info": {
   "codemirror_mode": {
    "name": "ipython",
    "version": 3
   },
   "file_extension": ".py",
   "mimetype": "text/x-python",
   "name": "python",
   "nbconvert_exporter": "python",
   "pygments_lexer": "ipython3",
   "version": "3.12.6"
  }
 },
 "nbformat": 4,
 "nbformat_minor": 5
}
